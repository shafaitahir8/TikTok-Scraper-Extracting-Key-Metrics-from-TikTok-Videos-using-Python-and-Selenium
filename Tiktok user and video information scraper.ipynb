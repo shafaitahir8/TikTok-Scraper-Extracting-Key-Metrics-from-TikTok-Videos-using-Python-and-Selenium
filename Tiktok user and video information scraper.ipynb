{
 "cells": [
  {
   "cell_type": "code",
   "execution_count": 1,
   "id": "542b31e8",
   "metadata": {},
   "outputs": [],
   "source": [
    "# Selenium Imports\n",
    "from selenium import webdriver\n",
    "from selenium.webdriver.common.keys import Keys\n",
    "from selenium.webdriver.support import expected_conditions as EC\n",
    "from selenium.webdriver.common.by import By\n",
    "from selenium.webdriver.support.wait import WebDriverWait\n",
    "from selenium.webdriver.common.action_chains import ActionChains\n",
    "from time import sleep\n",
    "\n",
    "# Other imports here\n",
    "import os\n",
    "import numpy as np\n",
    "import pandas as pd\n",
    "import time\n",
    "import re\n",
    "from IPython.display import clear_output\n",
    "import pyautogui\n"
   ]
  },
  {
   "cell_type": "code",
   "execution_count": 2,
   "id": "18fe6416",
   "metadata": {},
   "outputs": [],
   "source": [
    "#Enter video link here\n",
    "videolink = 'https://www.tiktok.com/@pinkykhan3564/video/7193055322020318490'\n",
    "\n",
    "#close popup\n",
    "def closepopup():\n",
    "    try:\n",
    "        driver.find_element(By.XPATH,'//*[@id=\"verify-bar-close\"]').click()\n",
    "    except:\n",
    "        pass\n",
    "    \n",
    "# download 'Chrome Driver' and run it\n",
    "driver = webdriver.Chrome('F:/downloood/chromedriver.exe')\n",
    "\n",
    "# Open tiktok with get() function and wait for it to open\n",
    "driver.get(videolink)      \n",
    "time.sleep(2)\n",
    "driver.maximize_window()\n",
    "time.sleep(4)\n",
    "closepopup()\n",
    "\n"
   ]
  },
  {
   "cell_type": "code",
   "execution_count": 3,
   "id": "26c681f5",
   "metadata": {},
   "outputs": [],
   "source": [
    "\n",
    "#Title\n",
    "closepopup()\n",
    "x = driver.find_element(By.XPATH,'/html/body/div[2]/div[2]/div[2]/div[1]/div[2]/div/div[1]/div[2]/div')\n",
    "title = x.text\n",
    "\n",
    "#likes\n",
    "x = driver.find_element(By.XPATH,'//*[@id=\"app\"]/div[2]/div[2]/div[1]/div[2]/div/div[1]/div[1]/div[4]/button[1]/strong')\n",
    "likes = x.text\n",
    "\n",
    "#comments\n",
    "x = driver.find_element(By.XPATH,'//*[@id=\"app\"]/div[2]/div[2]/div[1]/div[2]/div[1]/div[1]/div[1]/div[4]/button[2]/strong')\n",
    "comments = x.text\n",
    "\n",
    "#account name\n",
    "x = driver.find_element(By.XPATH,'//*[@id=\"app\"]/div[2]/div[2]/div[1]/div[2]/div[1]/div[2]/div/a[2]/span[1]')\n",
    "account_name = x.text\n",
    "\n",
    "#account url\n",
    "x = driver.find_element(By.XPATH,'//*[@id=\"app\"]/div[2]/div[2]/div[1]/div[2]/div[1]/div[2]/div/a[2]')\n",
    "account_url = x.get_attribute('href')\n",
    "\n",
    "# #Views\n",
    "driver.get(account_url) \n",
    "time.sleep(3)\n",
    "closepopup()\n",
    "x=0\n",
    "while(x<5):\n",
    "    driver.execute_script(\"window.scrollTo(0, document.body.scrollHeight);\")\n",
    "    time.sleep(2)\n",
    "    closepopup()\n",
    "    x=x+1\n",
    "\n",
    "x = driver.find_elements(By.XPATH,'/html/body/div[2]/div[2]/div[2]/div/div[2]/div[2]/div/div')\n",
    "for elem in x:\n",
    "    if videolink in elem.find_element(By.XPATH,'./div/div/div/a').get_attribute('href'):\n",
    "        views = (elem.text.split()[0])\n"
   ]
  },
  {
   "cell_type": "code",
   "execution_count": 4,
   "id": "6bc34c55",
   "metadata": {},
   "outputs": [
    {
     "name": "stdout",
     "output_type": "stream",
     "text": [
      "Title: #الله ❤️💞 @𝐘𝐎𝐔𝐑 𝐌𝐄𝐎𝐖🐱💕 @army_boy😉\n",
      "likes: 170\n",
      "account_name: pinkykhan3564\n",
      "account_url: https://www.tiktok.com/@pinkykhan3564\n",
      "views: 1981\n"
     ]
    }
   ],
   "source": [
    "print('Title: '+title)\n",
    "print('likes: '+likes)\n",
    "print('account_name: '+account_name)\n",
    "print('account_url: '+account_url)\n",
    "print('views: '+views)"
   ]
  }
 ],
 "metadata": {
  "kernelspec": {
   "display_name": "Python 3.9.12 ('base')",
   "language": "python",
   "name": "python3"
  },
  "language_info": {
   "codemirror_mode": {
    "name": "ipython",
    "version": 3
   },
   "file_extension": ".py",
   "mimetype": "text/x-python",
   "name": "python",
   "nbconvert_exporter": "python",
   "pygments_lexer": "ipython3",
   "version": "3.9.12"
  },
  "vscode": {
   "interpreter": {
    "hash": "a077222d77dfe082b8f1dd562ad70e458ac2ab76993a0b248ab0476e32e9e8dd"
   }
  }
 },
 "nbformat": 4,
 "nbformat_minor": 5
}
